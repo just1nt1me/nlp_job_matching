{
 "cells": [
  {
   "attachments": {},
   "cell_type": "markdown",
   "metadata": {},
   "source": [
    "# Import Libraries"
   ]
  },
  {
   "cell_type": "code",
   "execution_count": 1,
   "metadata": {},
   "outputs": [],
   "source": [
    "# ! pip install pypdf"
   ]
  },
  {
   "cell_type": "code",
   "execution_count": 2,
   "metadata": {},
   "outputs": [],
   "source": [
    "# calculations\n",
    "import numpy as np\n",
    "import pandas as pd\n",
    "\n",
    "# visuals\n",
    "import matplotlib.pyplot as plt\n",
    "\n",
    "# parsing\n",
    "from pypdf import PdfReader\n",
    "\n",
    "# tokenizing\n",
    "import nltk\n",
    "from nltk.corpus import stopwords\n",
    "import string\n",
    "from nltk.stem.porter import PorterStemmer\n",
    "\n",
    "# vectorizing\n",
    "from sklearn.feature_extraction.text import TfidfVectorizer\n",
    "from gensim.models import Word2Vec\n",
    "\n",
    "# similarity score\n",
    "from sklearn.metrics.pairwise import cosine_similarity\n",
    "\n",
    "import warnings\n",
    "warnings.filterwarnings('ignore')\n",
    "from sklearn.naive_bayes import MultinomialNB\n",
    "from sklearn.multiclass import OneVsRestClassifier\n",
    "from sklearn import metrics\n",
    "from sklearn.metrics import accuracy_score\n",
    "from pandas.plotting import scatter_matrix\n",
    "from sklearn.neighbors import KNeighborsClassifier\n",
    "from sklearn import metrics\n",
    "import re"
   ]
  },
  {
   "attachments": {},
   "cell_type": "markdown",
   "metadata": {},
   "source": [
    "# Dataset"
   ]
  },
  {
   "cell_type": "code",
   "execution_count": 3,
   "metadata": {},
   "outputs": [
    {
     "data": {
      "text/plain": [
       "(1000, 1)"
      ]
     },
     "execution_count": 3,
     "metadata": {},
     "output_type": "execute_result"
    }
   ],
   "source": [
    "df = pd.read_csv('job_data.csv')[['Job Description']]\n",
    "df = df.sample(1000, ignore_index=True, random_state=22)\n",
    "df.shape"
   ]
  },
  {
   "cell_type": "code",
   "execution_count": 4,
   "metadata": {},
   "outputs": [
    {
     "data": {
      "text/html": [
       "<div>\n",
       "<style scoped>\n",
       "    .dataframe tbody tr th:only-of-type {\n",
       "        vertical-align: middle;\n",
       "    }\n",
       "\n",
       "    .dataframe tbody tr th {\n",
       "        vertical-align: top;\n",
       "    }\n",
       "\n",
       "    .dataframe thead th {\n",
       "        text-align: right;\n",
       "    }\n",
       "</style>\n",
       "<table border=\"1\" class=\"dataframe\">\n",
       "  <thead>\n",
       "    <tr style=\"text-align: right;\">\n",
       "      <th></th>\n",
       "      <th>Job Description</th>\n",
       "    </tr>\n",
       "  </thead>\n",
       "  <tbody>\n",
       "    <tr>\n",
       "      <th>0</th>\n",
       "      <td>&lt;div id=\"jobDescriptionText\" class=\"jobsearch-...</td>\n",
       "    </tr>\n",
       "    <tr>\n",
       "      <th>1</th>\n",
       "      <td>&lt;div id=\"jobDescriptionText\" class=\"jobsearch-...</td>\n",
       "    </tr>\n",
       "    <tr>\n",
       "      <th>2</th>\n",
       "      <td>&lt;div id=\"jobDescriptionText\" class=\"jobsearch-...</td>\n",
       "    </tr>\n",
       "    <tr>\n",
       "      <th>3</th>\n",
       "      <td>&lt;div id=\"jobDescriptionText\" class=\"jobsearch-...</td>\n",
       "    </tr>\n",
       "    <tr>\n",
       "      <th>4</th>\n",
       "      <td>&lt;div id=\"jobDescriptionText\" class=\"jobsearch-...</td>\n",
       "    </tr>\n",
       "  </tbody>\n",
       "</table>\n",
       "</div>"
      ],
      "text/plain": [
       "                                     Job Description\n",
       "0  <div id=\"jobDescriptionText\" class=\"jobsearch-...\n",
       "1  <div id=\"jobDescriptionText\" class=\"jobsearch-...\n",
       "2  <div id=\"jobDescriptionText\" class=\"jobsearch-...\n",
       "3  <div id=\"jobDescriptionText\" class=\"jobsearch-...\n",
       "4  <div id=\"jobDescriptionText\" class=\"jobsearch-..."
      ]
     },
     "execution_count": 4,
     "metadata": {},
     "output_type": "execute_result"
    }
   ],
   "source": [
    "df.head()"
   ]
  },
  {
   "attachments": {},
   "cell_type": "markdown",
   "metadata": {},
   "source": [
    "# Parse Job Listings"
   ]
  },
  {
   "cell_type": "code",
   "execution_count": 5,
   "metadata": {},
   "outputs": [],
   "source": [
    "#function to process job listings\n",
    "def clean_text(resumeText):\n",
    "    resumeText = re.sub(r'<[^>]+>', '', resumeText)     # remove html tags\n",
    "    resumeText = re.sub('http\\S+\\s*', ' ', resumeText)  # remove URLs\n",
    "    resumeText = re.sub('RT|cc', ' ', resumeText)  # remove RT and cc\n",
    "    resumeText = re.sub('#\\S+', '', resumeText)  # remove hashtags\n",
    "    resumeText = re.sub('@\\S+', '  ', resumeText)  # remove mentions\n",
    "    resumeText = re.sub('[%s]' % re.escape(\"\"\"!\"#$%&'()*+,-./:;<=>?@[\\]^_`{|}~\"\"\"), ' ', resumeText)  # remove punctuations\n",
    "    resumeText = re.sub(r'[^\\x00-\\x7f]',r' ', resumeText) \n",
    "    resumeText = re.sub('\\s+', ' ', resumeText)  # remove extra whitespace\n",
    "    resumeText = re.sub(r'(\\w)(?<![A-Z])([A-Z])(?![A-Z])', r'\\1 \\2', resumeText)\n",
    "    resumeText = resumeText.lower() #remove capital letters\n",
    "    words = resumeText.split(' ')\n",
    "    words = [word for word in words if len(word)>1]\n",
    "    resumeText = ' '.join(words)\n",
    "    return resumeText"
   ]
  },
  {
   "cell_type": "code",
   "execution_count": 6,
   "metadata": {},
   "outputs": [
    {
     "data": {
      "text/plain": [
       "'ount executive job number 50955730 description spread your wings we are the duck we inspire and are inspired listen and respond empower our people give back to our community and most importantly celebrate every su ess along the way we do it all the aflac way aflac fortune 500 company is an industry leader in voluntary insurance products that pay cash directly to policyholders and one of america best known brands aflac has been recognized by fortune magazine as one of the 100 best companies to work for in america for 20 consecutive years one of the best workplaces for millennials in 2015 the inaugural year of the award and one of america most admired companies for 18 years our business is about being there for people in need so ask yourself are you the duck if so there home and flourishing career for you at aflac the company aflac the location atlanta columbus ga the division communicorp the opportunity ount executive principal duties amp responsibilities provides ongoing sales and service to long term clients articulates and influences clients regarding communicorp marketing solutions value proposition and translates the influence into revenue increases develops strategies to penetrate ounts with the key decision makers grows revenue both organic and new at high rate through development of strategic plans that meet or exceed clients requirements manages sales cycle from prospecting target ounts and contacts to closing and renewing ounts gathers and uses data to inform management of customer activity identifying customer requirements competitive trends and changing environments collaborates and communicates effectively with internal teams to create strategic solutions that promote customer objectives listens to the needs of the market and shares with the product and marketing teams prepares sales forecast reports of open opportunities as directed by management participates in annual sales budget process provides customer service before during and after the order cycle by acting as the company liaison between the customer and all departments within communicorp works closely with management to develop new sales strategies pricing plans and product service recommendations works independently managing assigned customer base expanding and developing ounts conducts sales and ount presentations performs other duties as required qualifications education amp experience bachelor degree and two years of job related work experience acquiring and retaining ounts and selling marketing solutions both traditional and interactive or an equivalent combination of education and experience sales experience with strong preference for background in the printing and printing related services industry preferred experience in outside b2 sales acquiring new or managing existing ounts in printing or related industry preferred job knowledge amp skills strong analytical skills to assess business opportunities and read prospective buyers knowledge of software contract terms and conditions knowledge of the printing industry including appropriate use of conventional and digital print ability to develop the right messages and provide the right deliverables for customers satisfactory comprehension of automated marketing solutions variable data commerce and other emerging electronic solutions strong understanding of end to end marketing solutions strong organizational and sales budget skills ability to produce follow up metrics and reports for customers excellent verbal and written communication skills must be able to thrive as team player must possess outgoing confident personality suitable for prospecting potential ounts from smaller to larger in person and through linked in and other business related networking avenues ability to produce follow up metrics and reports for customers core competencies action oriented customer focus adaptability listening ethics and values integrity and trust functional competencies business acumen composure creativity drive for results interpersonal savvy perseverance negotiating presentation skills written communications the benefits aflac is known for treating our employees exceptionally well as one of the leaders in the insurance industry we re able to offer one of the most comprehensive health benefits packages available in corporate america including free coverage from one of our pioneering insurance products the aflac cancer policy our employees also enjoy host of other benefits including advancement opportunities opportunities for continued education and professional development merit increases and performance bonuses profit sharing 401 stock purchase plans and many more'"
      ]
     },
     "execution_count": 6,
     "metadata": {},
     "output_type": "execute_result"
    }
   ],
   "source": [
    "# clean job description and add each to dataframe\n",
    "df['Clean Job Description'] = df['Job Description'].apply(lambda x: clean_text(x))\n",
    "df['Clean Job Description'][0]"
   ]
  },
  {
   "attachments": {},
   "cell_type": "markdown",
   "metadata": {},
   "source": [
    "# Parse Resume"
   ]
  },
  {
   "cell_type": "code",
   "execution_count": 7,
   "metadata": {},
   "outputs": [],
   "source": [
    "# convert resume PDF into string\n",
    "reader = PdfReader(\"resume.pdf\")\n",
    "number_of_pages = len(reader.pages)\n",
    "page = reader.pages[0]\n",
    "pdf_text = page.extract_text()"
   ]
  },
  {
   "cell_type": "code",
   "execution_count": 8,
   "metadata": {},
   "outputs": [
    {
     "data": {
      "text/plain": [
       "'Justin Carville\\nData Scientist\\nAbout Me\\nProfessional Experience\"Every day is a new adventure.\" This philosophy brought\\nme to Japan in 2017, where I have since leveraged my\\nlove of languages to make a living. My experience\\nworking in marketing and business operations got me\\nexcited about coding and data, so I changed gears and\\nam now on a mission to become fluent in this new field.\\nTechnical Skills\\nPython\\nScikit-Learn\\nMachine\\nLearning\\nNLP\\nDeep Learning\\nLanguages\\nEnglish : native\\nJapanese : business\\nSpanish : conversational\\nEducation\\nLe Wagon - Tokyo (2023)\\n#1 ranked bootcamp worldwide\\n9-week intensive data science\\nbootcamp\\nKICL - Kyoto (2017-2019)\\nJapanese language school\\nPassed JLPT N2\\nUniversity of Rhode Island (2010-2013)\\nBachelor of Arts in Spanish, Journalism\\n Graduated Magna Cum LaudeContact Info\\njccarville@gmail.comTokyo, Japan\\nwww.linkedin.com/in/jccarville/\\nhttps://github.com/just1nt1me\\nLink Academy (2019-2023)\\nFreelance Writer, Editor, Translator (2018-2023)\\nVIPKID | ESL Teacher (2017-2019)WeLoveOsaka (link to articles)SNS video content creation for YouTube, Instagram\\nKPI analysis\\n70+ videos, 66,000+ views, 220+ subscribers\\ntranslate (J ➞ E) and edit articles about tourism, gourmet,\\nevents\\nteach online English lessons for children\\n1000+ classroom hoursComputer Vision\\nSQL\\nGoogle Cloud\\nPlatform\\nStreamlit\\nGit/GithubSNS Marketing Specialist\\nLesson schedule optimization, management\\nTroubleshooting and IT support\\navg of 60 lessons booked / weekOperations Support Staff\\nTeach conversation, business, TOEIC, pronunciation\\nlessons\\n95% student feedback rateESL Teacher\\nAtoZ English\\nwrite, edit test content for EIKEN, TOEIC, TEAP\\nGrape Japan (link to articles)\\nwrite, translate articles on Japanese culture, lifestyle,\\ntrends\\nCCRI | Tutor (2016-2017)\\nteach one-on-one lessons in Biology, Anatomy,\\nPhysiology, Math\\nNPR | Copy Editor, Contributor (2015-2016)\\nfield work, interviews, articles, edits for radio and online\\nInterests\\nweightlifting\\nyoga\\nhikingLink to my\\n music hereClick for \\nPortfolio & Projects'"
      ]
     },
     "execution_count": 8,
     "metadata": {},
     "output_type": "execute_result"
    }
   ],
   "source": [
    "pdf_text"
   ]
  },
  {
   "cell_type": "code",
   "execution_count": 9,
   "metadata": {},
   "outputs": [
    {
     "data": {
      "text/plain": [
       "'justin carville data scientist about me professional experience every day is new adventure this philosophy brought me to japan in 2017 where have since leveraged my love of languages to make living my experience working in marketing and business operations got me excited about coding and data so changed gears and am now on mission to become fluent in this new field technical skills python scikit learn machine learning nlp deep learning languages english native japanese business spanish conversational education le wagon tokyo 2023 ranked bootcamp worldwide week intensive data science bootcamp kicl kyoto 2017 2019 japanese language school passed jlpt n2 university of rhode island 2010 2013 bachelor of arts in spanish journalism graduated magna cum laude contact info arville japan www linkedin com in arville link academy 2019 2023 freelance writer editor translator 2018 2023 vipkid esl teacher 2017 2019 we love osaka link to articles sns video content creation for you tube instagram kpi analysis 70 videos 66 000 views 220 subscribers translate and edit articles about tourism gourmet events teach online english lessons for children 1000 classroom hours computer vision sql google cloud platform streamlit git githubsns marketing specialist lesson schedule optimization management troubleshooting and it support avg of 60 lessons booked week operations support staff teach conversation business toeic pronunciation lessons 95 student feedback rateesl teacher ato english write edit test content for eiken toeic teap grape japan link to articles write translate articles on japanese culture lifestyle trends ccri tutor 2016 2017 teach one on one lessons in biology anatomy physiology math npr copy editor contributor 2015 2016 field work interviews articles edits for radio and online interests weightlifting yoga hiking link to my music here click for portfolio projects'"
      ]
     },
     "execution_count": 9,
     "metadata": {},
     "output_type": "execute_result"
    }
   ],
   "source": [
    "# clean resume text\n",
    "resume = clean_text(pdf_text)\n",
    "resume"
   ]
  },
  {
   "attachments": {},
   "cell_type": "markdown",
   "metadata": {},
   "source": [
    "# Tokenizing Texts"
   ]
  },
  {
   "cell_type": "code",
   "execution_count": 10,
   "metadata": {},
   "outputs": [],
   "source": [
    "# funciton to tokenize text\n",
    "stemmer = PorterStemmer()\n",
    "def tokenize(df, column):\n",
    "    for i in range (0, df.shape[0]):\n",
    "        res = df[column][i]\n",
    "        res = res.split()\n",
    "        res = [stemmer.stem(word) for word in res if word not in stopwords.words('english') and word not in string.punctuation]\n",
    "        df[column][i] = ' '.join(res)\n",
    "    return df"
   ]
  },
  {
   "cell_type": "code",
   "execution_count": 11,
   "metadata": {},
   "outputs": [
    {
     "data": {
      "text/html": [
       "<div>\n",
       "<style scoped>\n",
       "    .dataframe tbody tr th:only-of-type {\n",
       "        vertical-align: middle;\n",
       "    }\n",
       "\n",
       "    .dataframe tbody tr th {\n",
       "        vertical-align: top;\n",
       "    }\n",
       "\n",
       "    .dataframe thead th {\n",
       "        text-align: right;\n",
       "    }\n",
       "</style>\n",
       "<table border=\"1\" class=\"dataframe\">\n",
       "  <thead>\n",
       "    <tr style=\"text-align: right;\">\n",
       "      <th></th>\n",
       "      <th>Job Description</th>\n",
       "      <th>Clean Job Description</th>\n",
       "    </tr>\n",
       "  </thead>\n",
       "  <tbody>\n",
       "    <tr>\n",
       "      <th>0</th>\n",
       "      <td>&lt;div id=\"jobDescriptionText\" class=\"jobsearch-...</td>\n",
       "      <td>ount execut job number 50955730 descript sprea...</td>\n",
       "    </tr>\n",
       "    <tr>\n",
       "      <th>1</th>\n",
       "      <td>&lt;div id=\"jobDescriptionText\" class=\"jobsearch-...</td>\n",
       "      <td>primari purpos work part product manag team en...</td>\n",
       "    </tr>\n",
       "    <tr>\n",
       "      <th>2</th>\n",
       "      <td>&lt;div id=\"jobDescriptionText\" class=\"jobsearch-...</td>\n",
       "      <td>descript hire enterpris sale develop repres re...</td>\n",
       "    </tr>\n",
       "    <tr>\n",
       "      <th>3</th>\n",
       "      <td>&lt;div id=\"jobDescriptionText\" class=\"jobsearch-...</td>\n",
       "      <td>vice presid ad sale market nbc olymp respons w...</td>\n",
       "    </tr>\n",
       "    <tr>\n",
       "      <th>4</th>\n",
       "      <td>&lt;div id=\"jobDescriptionText\" class=\"jobsearch-...</td>\n",
       "      <td>gener summari senior compens analyst key partn...</td>\n",
       "    </tr>\n",
       "    <tr>\n",
       "      <th>...</th>\n",
       "      <td>...</td>\n",
       "      <td>...</td>\n",
       "    </tr>\n",
       "    <tr>\n",
       "      <th>995</th>\n",
       "      <td>&lt;div id=\"jobDescriptionText\" class=\"jobsearch-...</td>\n",
       "      <td>want help peopl feel better want work top rate...</td>\n",
       "    </tr>\n",
       "    <tr>\n",
       "      <th>996</th>\n",
       "      <td>&lt;div id=\"jobDescriptionText\" class=\"jobsearch-...</td>\n",
       "      <td>job open id 00315276 logist manag open job tit...</td>\n",
       "    </tr>\n",
       "    <tr>\n",
       "      <th>997</th>\n",
       "      <td>&lt;div id=\"jobDescriptionText\" class=\"jobsearch-...</td>\n",
       "      <td>morningstar busi develop team seek highli moti...</td>\n",
       "    </tr>\n",
       "    <tr>\n",
       "      <th>998</th>\n",
       "      <td>&lt;div id=\"jobDescriptionText\" class=\"jobsearch-...</td>\n",
       "      <td>schult compani seek task forc director sale jo...</td>\n",
       "    </tr>\n",
       "    <tr>\n",
       "      <th>999</th>\n",
       "      <td>&lt;div id=\"jobDescriptionText\" class=\"jobsearch-...</td>\n",
       "      <td>duke card specialist member duke card team wor...</td>\n",
       "    </tr>\n",
       "  </tbody>\n",
       "</table>\n",
       "<p>1000 rows × 2 columns</p>\n",
       "</div>"
      ],
      "text/plain": [
       "                                       Job Description  \\\n",
       "0    <div id=\"jobDescriptionText\" class=\"jobsearch-...   \n",
       "1    <div id=\"jobDescriptionText\" class=\"jobsearch-...   \n",
       "2    <div id=\"jobDescriptionText\" class=\"jobsearch-...   \n",
       "3    <div id=\"jobDescriptionText\" class=\"jobsearch-...   \n",
       "4    <div id=\"jobDescriptionText\" class=\"jobsearch-...   \n",
       "..                                                 ...   \n",
       "995  <div id=\"jobDescriptionText\" class=\"jobsearch-...   \n",
       "996  <div id=\"jobDescriptionText\" class=\"jobsearch-...   \n",
       "997  <div id=\"jobDescriptionText\" class=\"jobsearch-...   \n",
       "998  <div id=\"jobDescriptionText\" class=\"jobsearch-...   \n",
       "999  <div id=\"jobDescriptionText\" class=\"jobsearch-...   \n",
       "\n",
       "                                 Clean Job Description  \n",
       "0    ount execut job number 50955730 descript sprea...  \n",
       "1    primari purpos work part product manag team en...  \n",
       "2    descript hire enterpris sale develop repres re...  \n",
       "3    vice presid ad sale market nbc olymp respons w...  \n",
       "4    gener summari senior compens analyst key partn...  \n",
       "..                                                 ...  \n",
       "995  want help peopl feel better want work top rate...  \n",
       "996  job open id 00315276 logist manag open job tit...  \n",
       "997  morningstar busi develop team seek highli moti...  \n",
       "998  schult compani seek task forc director sale jo...  \n",
       "999  duke card specialist member duke card team wor...  \n",
       "\n",
       "[1000 rows x 2 columns]"
      ]
     },
     "execution_count": 11,
     "metadata": {},
     "output_type": "execute_result"
    }
   ],
   "source": [
    "tokenize(df, 'Clean Job Description')"
   ]
  },
  {
   "cell_type": "code",
   "execution_count": 12,
   "metadata": {},
   "outputs": [],
   "source": [
    "#tokenize resume\n",
    "res = resume\n",
    "res = res.split()\n",
    "res = [stemmer.stem(word) for word in res if word not in stopwords.words('english') and word not in string.punctuation]\n",
    "tokenized_resume = ' '.join(res)\n",
    "df['Resume'] = tokenized_resume"
   ]
  },
  {
   "cell_type": "code",
   "execution_count": 13,
   "metadata": {},
   "outputs": [
    {
     "data": {
      "text/html": [
       "<div>\n",
       "<style scoped>\n",
       "    .dataframe tbody tr th:only-of-type {\n",
       "        vertical-align: middle;\n",
       "    }\n",
       "\n",
       "    .dataframe tbody tr th {\n",
       "        vertical-align: top;\n",
       "    }\n",
       "\n",
       "    .dataframe thead th {\n",
       "        text-align: right;\n",
       "    }\n",
       "</style>\n",
       "<table border=\"1\" class=\"dataframe\">\n",
       "  <thead>\n",
       "    <tr style=\"text-align: right;\">\n",
       "      <th></th>\n",
       "      <th>Job Description</th>\n",
       "      <th>Clean Job Description</th>\n",
       "      <th>Resume</th>\n",
       "    </tr>\n",
       "  </thead>\n",
       "  <tbody>\n",
       "    <tr>\n",
       "      <th>0</th>\n",
       "      <td>&lt;div id=\"jobDescriptionText\" class=\"jobsearch-...</td>\n",
       "      <td>ount execut job number 50955730 descript sprea...</td>\n",
       "      <td>justin carvil data scientist profession experi...</td>\n",
       "    </tr>\n",
       "    <tr>\n",
       "      <th>1</th>\n",
       "      <td>&lt;div id=\"jobDescriptionText\" class=\"jobsearch-...</td>\n",
       "      <td>primari purpos work part product manag team en...</td>\n",
       "      <td>justin carvil data scientist profession experi...</td>\n",
       "    </tr>\n",
       "    <tr>\n",
       "      <th>2</th>\n",
       "      <td>&lt;div id=\"jobDescriptionText\" class=\"jobsearch-...</td>\n",
       "      <td>descript hire enterpris sale develop repres re...</td>\n",
       "      <td>justin carvil data scientist profession experi...</td>\n",
       "    </tr>\n",
       "    <tr>\n",
       "      <th>3</th>\n",
       "      <td>&lt;div id=\"jobDescriptionText\" class=\"jobsearch-...</td>\n",
       "      <td>vice presid ad sale market nbc olymp respons w...</td>\n",
       "      <td>justin carvil data scientist profession experi...</td>\n",
       "    </tr>\n",
       "    <tr>\n",
       "      <th>4</th>\n",
       "      <td>&lt;div id=\"jobDescriptionText\" class=\"jobsearch-...</td>\n",
       "      <td>gener summari senior compens analyst key partn...</td>\n",
       "      <td>justin carvil data scientist profession experi...</td>\n",
       "    </tr>\n",
       "  </tbody>\n",
       "</table>\n",
       "</div>"
      ],
      "text/plain": [
       "                                     Job Description  \\\n",
       "0  <div id=\"jobDescriptionText\" class=\"jobsearch-...   \n",
       "1  <div id=\"jobDescriptionText\" class=\"jobsearch-...   \n",
       "2  <div id=\"jobDescriptionText\" class=\"jobsearch-...   \n",
       "3  <div id=\"jobDescriptionText\" class=\"jobsearch-...   \n",
       "4  <div id=\"jobDescriptionText\" class=\"jobsearch-...   \n",
       "\n",
       "                               Clean Job Description  \\\n",
       "0  ount execut job number 50955730 descript sprea...   \n",
       "1  primari purpos work part product manag team en...   \n",
       "2  descript hire enterpris sale develop repres re...   \n",
       "3  vice presid ad sale market nbc olymp respons w...   \n",
       "4  gener summari senior compens analyst key partn...   \n",
       "\n",
       "                                              Resume  \n",
       "0  justin carvil data scientist profession experi...  \n",
       "1  justin carvil data scientist profession experi...  \n",
       "2  justin carvil data scientist profession experi...  \n",
       "3  justin carvil data scientist profession experi...  \n",
       "4  justin carvil data scientist profession experi...  "
      ]
     },
     "execution_count": 13,
     "metadata": {},
     "output_type": "execute_result"
    }
   ],
   "source": [
    "df.head()"
   ]
  },
  {
   "attachments": {},
   "cell_type": "markdown",
   "metadata": {},
   "source": [
    "# Feature Engineering"
   ]
  },
  {
   "attachments": {},
   "cell_type": "markdown",
   "metadata": {},
   "source": [
    "## Number of Words in Job Description / Resume"
   ]
  },
  {
   "cell_type": "code",
   "execution_count": 14,
   "metadata": {},
   "outputs": [
    {
     "data": {
      "text/html": [
       "<div>\n",
       "<style scoped>\n",
       "    .dataframe tbody tr th:only-of-type {\n",
       "        vertical-align: middle;\n",
       "    }\n",
       "\n",
       "    .dataframe tbody tr th {\n",
       "        vertical-align: top;\n",
       "    }\n",
       "\n",
       "    .dataframe thead th {\n",
       "        text-align: right;\n",
       "    }\n",
       "</style>\n",
       "<table border=\"1\" class=\"dataframe\">\n",
       "  <thead>\n",
       "    <tr style=\"text-align: right;\">\n",
       "      <th></th>\n",
       "      <th>Job Description</th>\n",
       "      <th>Clean Job Description</th>\n",
       "      <th>Resume</th>\n",
       "      <th>JD_num_words</th>\n",
       "      <th>Resume_num_words</th>\n",
       "    </tr>\n",
       "  </thead>\n",
       "  <tbody>\n",
       "    <tr>\n",
       "      <th>0</th>\n",
       "      <td>&lt;div id=\"jobDescriptionText\" class=\"jobsearch-...</td>\n",
       "      <td>ount execut job number 50955730 descript sprea...</td>\n",
       "      <td>justin carvil data scientist profession experi...</td>\n",
       "      <td>458</td>\n",
       "      <td>235</td>\n",
       "    </tr>\n",
       "    <tr>\n",
       "      <th>1</th>\n",
       "      <td>&lt;div id=\"jobDescriptionText\" class=\"jobsearch-...</td>\n",
       "      <td>primari purpos work part product manag team en...</td>\n",
       "      <td>justin carvil data scientist profession experi...</td>\n",
       "      <td>590</td>\n",
       "      <td>235</td>\n",
       "    </tr>\n",
       "    <tr>\n",
       "      <th>2</th>\n",
       "      <td>&lt;div id=\"jobDescriptionText\" class=\"jobsearch-...</td>\n",
       "      <td>descript hire enterpris sale develop repres re...</td>\n",
       "      <td>justin carvil data scientist profession experi...</td>\n",
       "      <td>498</td>\n",
       "      <td>235</td>\n",
       "    </tr>\n",
       "    <tr>\n",
       "      <th>3</th>\n",
       "      <td>&lt;div id=\"jobDescriptionText\" class=\"jobsearch-...</td>\n",
       "      <td>vice presid ad sale market nbc olymp respons w...</td>\n",
       "      <td>justin carvil data scientist profession experi...</td>\n",
       "      <td>430</td>\n",
       "      <td>235</td>\n",
       "    </tr>\n",
       "    <tr>\n",
       "      <th>4</th>\n",
       "      <td>&lt;div id=\"jobDescriptionText\" class=\"jobsearch-...</td>\n",
       "      <td>gener summari senior compens analyst key partn...</td>\n",
       "      <td>justin carvil data scientist profession experi...</td>\n",
       "      <td>351</td>\n",
       "      <td>235</td>\n",
       "    </tr>\n",
       "  </tbody>\n",
       "</table>\n",
       "</div>"
      ],
      "text/plain": [
       "                                     Job Description  \\\n",
       "0  <div id=\"jobDescriptionText\" class=\"jobsearch-...   \n",
       "1  <div id=\"jobDescriptionText\" class=\"jobsearch-...   \n",
       "2  <div id=\"jobDescriptionText\" class=\"jobsearch-...   \n",
       "3  <div id=\"jobDescriptionText\" class=\"jobsearch-...   \n",
       "4  <div id=\"jobDescriptionText\" class=\"jobsearch-...   \n",
       "\n",
       "                               Clean Job Description  \\\n",
       "0  ount execut job number 50955730 descript sprea...   \n",
       "1  primari purpos work part product manag team en...   \n",
       "2  descript hire enterpris sale develop repres re...   \n",
       "3  vice presid ad sale market nbc olymp respons w...   \n",
       "4  gener summari senior compens analyst key partn...   \n",
       "\n",
       "                                              Resume  JD_num_words  \\\n",
       "0  justin carvil data scientist profession experi...           458   \n",
       "1  justin carvil data scientist profession experi...           590   \n",
       "2  justin carvil data scientist profession experi...           498   \n",
       "3  justin carvil data scientist profession experi...           430   \n",
       "4  justin carvil data scientist profession experi...           351   \n",
       "\n",
       "   Resume_num_words  \n",
       "0               235  \n",
       "1               235  \n",
       "2               235  \n",
       "3               235  \n",
       "4               235  "
      ]
     },
     "execution_count": 14,
     "metadata": {},
     "output_type": "execute_result"
    }
   ],
   "source": [
    "df['JD_num_words'] = df['Clean Job Description'].apply(lambda x: len(x.split(' ')))\n",
    "df['Resume_num_words'] = df['Resume'].apply(lambda x: len(x.split(' ')))\n",
    "df.head()"
   ]
  },
  {
   "attachments": {},
   "cell_type": "markdown",
   "metadata": {},
   "source": [
    "## Number of Words in Common"
   ]
  },
  {
   "cell_type": "code",
   "execution_count": 15,
   "metadata": {},
   "outputs": [
    {
     "data": {
      "text/html": [
       "<div>\n",
       "<style scoped>\n",
       "    .dataframe tbody tr th:only-of-type {\n",
       "        vertical-align: middle;\n",
       "    }\n",
       "\n",
       "    .dataframe tbody tr th {\n",
       "        vertical-align: top;\n",
       "    }\n",
       "\n",
       "    .dataframe thead th {\n",
       "        text-align: right;\n",
       "    }\n",
       "</style>\n",
       "<table border=\"1\" class=\"dataframe\">\n",
       "  <thead>\n",
       "    <tr style=\"text-align: right;\">\n",
       "      <th></th>\n",
       "      <th>Job Description</th>\n",
       "      <th>Clean Job Description</th>\n",
       "      <th>Resume</th>\n",
       "      <th>JD_num_words</th>\n",
       "      <th>Resume_num_words</th>\n",
       "      <th>word_common</th>\n",
       "    </tr>\n",
       "  </thead>\n",
       "  <tbody>\n",
       "    <tr>\n",
       "      <th>0</th>\n",
       "      <td>&lt;div id=\"jobDescriptionText\" class=\"jobsearch-...</td>\n",
       "      <td>ount execut job number 50955730 descript sprea...</td>\n",
       "      <td>justin carvil data scientist profession experi...</td>\n",
       "      <td>458</td>\n",
       "      <td>235</td>\n",
       "      <td>19.0</td>\n",
       "    </tr>\n",
       "    <tr>\n",
       "      <th>1</th>\n",
       "      <td>&lt;div id=\"jobDescriptionText\" class=\"jobsearch-...</td>\n",
       "      <td>primari purpos work part product manag team en...</td>\n",
       "      <td>justin carvil data scientist profession experi...</td>\n",
       "      <td>590</td>\n",
       "      <td>235</td>\n",
       "      <td>25.0</td>\n",
       "    </tr>\n",
       "    <tr>\n",
       "      <th>2</th>\n",
       "      <td>&lt;div id=\"jobDescriptionText\" class=\"jobsearch-...</td>\n",
       "      <td>descript hire enterpris sale develop repres re...</td>\n",
       "      <td>justin carvil data scientist profession experi...</td>\n",
       "      <td>498</td>\n",
       "      <td>235</td>\n",
       "      <td>33.0</td>\n",
       "    </tr>\n",
       "    <tr>\n",
       "      <th>3</th>\n",
       "      <td>&lt;div id=\"jobDescriptionText\" class=\"jobsearch-...</td>\n",
       "      <td>vice presid ad sale market nbc olymp respons w...</td>\n",
       "      <td>justin carvil data scientist profession experi...</td>\n",
       "      <td>430</td>\n",
       "      <td>235</td>\n",
       "      <td>14.0</td>\n",
       "    </tr>\n",
       "    <tr>\n",
       "      <th>4</th>\n",
       "      <td>&lt;div id=\"jobDescriptionText\" class=\"jobsearch-...</td>\n",
       "      <td>gener summari senior compens analyst key partn...</td>\n",
       "      <td>justin carvil data scientist profession experi...</td>\n",
       "      <td>351</td>\n",
       "      <td>235</td>\n",
       "      <td>19.0</td>\n",
       "    </tr>\n",
       "  </tbody>\n",
       "</table>\n",
       "</div>"
      ],
      "text/plain": [
       "                                     Job Description  \\\n",
       "0  <div id=\"jobDescriptionText\" class=\"jobsearch-...   \n",
       "1  <div id=\"jobDescriptionText\" class=\"jobsearch-...   \n",
       "2  <div id=\"jobDescriptionText\" class=\"jobsearch-...   \n",
       "3  <div id=\"jobDescriptionText\" class=\"jobsearch-...   \n",
       "4  <div id=\"jobDescriptionText\" class=\"jobsearch-...   \n",
       "\n",
       "                               Clean Job Description  \\\n",
       "0  ount execut job number 50955730 descript sprea...   \n",
       "1  primari purpos work part product manag team en...   \n",
       "2  descript hire enterpris sale develop repres re...   \n",
       "3  vice presid ad sale market nbc olymp respons w...   \n",
       "4  gener summari senior compens analyst key partn...   \n",
       "\n",
       "                                              Resume  JD_num_words  \\\n",
       "0  justin carvil data scientist profession experi...           458   \n",
       "1  justin carvil data scientist profession experi...           590   \n",
       "2  justin carvil data scientist profession experi...           498   \n",
       "3  justin carvil data scientist profession experi...           430   \n",
       "4  justin carvil data scientist profession experi...           351   \n",
       "\n",
       "   Resume_num_words  word_common  \n",
       "0               235         19.0  \n",
       "1               235         25.0  \n",
       "2               235         33.0  \n",
       "3               235         14.0  \n",
       "4               235         19.0  "
      ]
     },
     "execution_count": 15,
     "metadata": {},
     "output_type": "execute_result"
    }
   ],
   "source": [
    "def normalized_words_common(row):\n",
    "    jd = set(map(lambda word: word.lower().strip(),row['Clean Job Description'].split(' ')))\n",
    "    rez = set(map(lambda word: word.lower().strip(),row['Resume'].split(' ')))\n",
    "    return 1.0 * len(jd & rez)\n",
    "df['word_common'] = df.apply(normalized_words_common,axis = 1)\n",
    "df.head()"
   ]
  },
  {
   "attachments": {},
   "cell_type": "markdown",
   "metadata": {},
   "source": [
    "## Number of Words in Total"
   ]
  },
  {
   "cell_type": "code",
   "execution_count": 16,
   "metadata": {},
   "outputs": [
    {
     "data": {
      "text/html": [
       "<div>\n",
       "<style scoped>\n",
       "    .dataframe tbody tr th:only-of-type {\n",
       "        vertical-align: middle;\n",
       "    }\n",
       "\n",
       "    .dataframe tbody tr th {\n",
       "        vertical-align: top;\n",
       "    }\n",
       "\n",
       "    .dataframe thead th {\n",
       "        text-align: right;\n",
       "    }\n",
       "</style>\n",
       "<table border=\"1\" class=\"dataframe\">\n",
       "  <thead>\n",
       "    <tr style=\"text-align: right;\">\n",
       "      <th></th>\n",
       "      <th>Job Description</th>\n",
       "      <th>Clean Job Description</th>\n",
       "      <th>Resume</th>\n",
       "      <th>JD_num_words</th>\n",
       "      <th>Resume_num_words</th>\n",
       "      <th>word_common</th>\n",
       "      <th>word_total</th>\n",
       "    </tr>\n",
       "  </thead>\n",
       "  <tbody>\n",
       "    <tr>\n",
       "      <th>0</th>\n",
       "      <td>&lt;div id=\"jobDescriptionText\" class=\"jobsearch-...</td>\n",
       "      <td>ount execut job number 50955730 descript sprea...</td>\n",
       "      <td>justin carvil data scientist profession experi...</td>\n",
       "      <td>458</td>\n",
       "      <td>235</td>\n",
       "      <td>19.0</td>\n",
       "      <td>446.0</td>\n",
       "    </tr>\n",
       "    <tr>\n",
       "      <th>1</th>\n",
       "      <td>&lt;div id=\"jobDescriptionText\" class=\"jobsearch-...</td>\n",
       "      <td>primari purpos work part product manag team en...</td>\n",
       "      <td>justin carvil data scientist profession experi...</td>\n",
       "      <td>590</td>\n",
       "      <td>235</td>\n",
       "      <td>25.0</td>\n",
       "      <td>537.0</td>\n",
       "    </tr>\n",
       "    <tr>\n",
       "      <th>2</th>\n",
       "      <td>&lt;div id=\"jobDescriptionText\" class=\"jobsearch-...</td>\n",
       "      <td>descript hire enterpris sale develop repres re...</td>\n",
       "      <td>justin carvil data scientist profession experi...</td>\n",
       "      <td>498</td>\n",
       "      <td>235</td>\n",
       "      <td>33.0</td>\n",
       "      <td>469.0</td>\n",
       "    </tr>\n",
       "    <tr>\n",
       "      <th>3</th>\n",
       "      <td>&lt;div id=\"jobDescriptionText\" class=\"jobsearch-...</td>\n",
       "      <td>vice presid ad sale market nbc olymp respons w...</td>\n",
       "      <td>justin carvil data scientist profession experi...</td>\n",
       "      <td>430</td>\n",
       "      <td>235</td>\n",
       "      <td>14.0</td>\n",
       "      <td>437.0</td>\n",
       "    </tr>\n",
       "    <tr>\n",
       "      <th>4</th>\n",
       "      <td>&lt;div id=\"jobDescriptionText\" class=\"jobsearch-...</td>\n",
       "      <td>gener summari senior compens analyst key partn...</td>\n",
       "      <td>justin carvil data scientist profession experi...</td>\n",
       "      <td>351</td>\n",
       "      <td>235</td>\n",
       "      <td>19.0</td>\n",
       "      <td>388.0</td>\n",
       "    </tr>\n",
       "  </tbody>\n",
       "</table>\n",
       "</div>"
      ],
      "text/plain": [
       "                                     Job Description  \\\n",
       "0  <div id=\"jobDescriptionText\" class=\"jobsearch-...   \n",
       "1  <div id=\"jobDescriptionText\" class=\"jobsearch-...   \n",
       "2  <div id=\"jobDescriptionText\" class=\"jobsearch-...   \n",
       "3  <div id=\"jobDescriptionText\" class=\"jobsearch-...   \n",
       "4  <div id=\"jobDescriptionText\" class=\"jobsearch-...   \n",
       "\n",
       "                               Clean Job Description  \\\n",
       "0  ount execut job number 50955730 descript sprea...   \n",
       "1  primari purpos work part product manag team en...   \n",
       "2  descript hire enterpris sale develop repres re...   \n",
       "3  vice presid ad sale market nbc olymp respons w...   \n",
       "4  gener summari senior compens analyst key partn...   \n",
       "\n",
       "                                              Resume  JD_num_words  \\\n",
       "0  justin carvil data scientist profession experi...           458   \n",
       "1  justin carvil data scientist profession experi...           590   \n",
       "2  justin carvil data scientist profession experi...           498   \n",
       "3  justin carvil data scientist profession experi...           430   \n",
       "4  justin carvil data scientist profession experi...           351   \n",
       "\n",
       "   Resume_num_words  word_common  word_total  \n",
       "0               235         19.0       446.0  \n",
       "1               235         25.0       537.0  \n",
       "2               235         33.0       469.0  \n",
       "3               235         14.0       437.0  \n",
       "4               235         19.0       388.0  "
      ]
     },
     "execution_count": 16,
     "metadata": {},
     "output_type": "execute_result"
    }
   ],
   "source": [
    "def normalized_words_total(row):\n",
    "    jd = set(map(lambda word: word.lower().strip(),row['Clean Job Description'].split(' ')))\n",
    "    rez = set(map(lambda word: word.lower().strip(),row['Resume'].split(' ')))\n",
    "    return 1.0 * (len(jd) + len(rez))\n",
    "df['word_total'] = df.apply(normalized_words_total,axis = 1)\n",
    "df.head()"
   ]
  },
  {
   "attachments": {},
   "cell_type": "markdown",
   "metadata": {},
   "source": [
    "## Percentage of Shared Words"
   ]
  },
  {
   "cell_type": "code",
   "execution_count": 17,
   "metadata": {},
   "outputs": [
    {
     "data": {
      "text/html": [
       "<div>\n",
       "<style scoped>\n",
       "    .dataframe tbody tr th:only-of-type {\n",
       "        vertical-align: middle;\n",
       "    }\n",
       "\n",
       "    .dataframe tbody tr th {\n",
       "        vertical-align: top;\n",
       "    }\n",
       "\n",
       "    .dataframe thead th {\n",
       "        text-align: right;\n",
       "    }\n",
       "</style>\n",
       "<table border=\"1\" class=\"dataframe\">\n",
       "  <thead>\n",
       "    <tr style=\"text-align: right;\">\n",
       "      <th></th>\n",
       "      <th>Job Description</th>\n",
       "      <th>Clean Job Description</th>\n",
       "      <th>Resume</th>\n",
       "      <th>JD_num_words</th>\n",
       "      <th>Resume_num_words</th>\n",
       "      <th>word_common</th>\n",
       "      <th>word_total</th>\n",
       "      <th>word_share</th>\n",
       "    </tr>\n",
       "  </thead>\n",
       "  <tbody>\n",
       "    <tr>\n",
       "      <th>0</th>\n",
       "      <td>&lt;div id=\"jobDescriptionText\" class=\"jobsearch-...</td>\n",
       "      <td>ount execut job number 50955730 descript sprea...</td>\n",
       "      <td>justin carvil data scientist profession experi...</td>\n",
       "      <td>458</td>\n",
       "      <td>235</td>\n",
       "      <td>19.0</td>\n",
       "      <td>446.0</td>\n",
       "      <td>0.042601</td>\n",
       "    </tr>\n",
       "    <tr>\n",
       "      <th>1</th>\n",
       "      <td>&lt;div id=\"jobDescriptionText\" class=\"jobsearch-...</td>\n",
       "      <td>primari purpos work part product manag team en...</td>\n",
       "      <td>justin carvil data scientist profession experi...</td>\n",
       "      <td>590</td>\n",
       "      <td>235</td>\n",
       "      <td>25.0</td>\n",
       "      <td>537.0</td>\n",
       "      <td>0.046555</td>\n",
       "    </tr>\n",
       "    <tr>\n",
       "      <th>2</th>\n",
       "      <td>&lt;div id=\"jobDescriptionText\" class=\"jobsearch-...</td>\n",
       "      <td>descript hire enterpris sale develop repres re...</td>\n",
       "      <td>justin carvil data scientist profession experi...</td>\n",
       "      <td>498</td>\n",
       "      <td>235</td>\n",
       "      <td>33.0</td>\n",
       "      <td>469.0</td>\n",
       "      <td>0.070362</td>\n",
       "    </tr>\n",
       "    <tr>\n",
       "      <th>3</th>\n",
       "      <td>&lt;div id=\"jobDescriptionText\" class=\"jobsearch-...</td>\n",
       "      <td>vice presid ad sale market nbc olymp respons w...</td>\n",
       "      <td>justin carvil data scientist profession experi...</td>\n",
       "      <td>430</td>\n",
       "      <td>235</td>\n",
       "      <td>14.0</td>\n",
       "      <td>437.0</td>\n",
       "      <td>0.032037</td>\n",
       "    </tr>\n",
       "    <tr>\n",
       "      <th>4</th>\n",
       "      <td>&lt;div id=\"jobDescriptionText\" class=\"jobsearch-...</td>\n",
       "      <td>gener summari senior compens analyst key partn...</td>\n",
       "      <td>justin carvil data scientist profession experi...</td>\n",
       "      <td>351</td>\n",
       "      <td>235</td>\n",
       "      <td>19.0</td>\n",
       "      <td>388.0</td>\n",
       "      <td>0.048969</td>\n",
       "    </tr>\n",
       "  </tbody>\n",
       "</table>\n",
       "</div>"
      ],
      "text/plain": [
       "                                     Job Description  \\\n",
       "0  <div id=\"jobDescriptionText\" class=\"jobsearch-...   \n",
       "1  <div id=\"jobDescriptionText\" class=\"jobsearch-...   \n",
       "2  <div id=\"jobDescriptionText\" class=\"jobsearch-...   \n",
       "3  <div id=\"jobDescriptionText\" class=\"jobsearch-...   \n",
       "4  <div id=\"jobDescriptionText\" class=\"jobsearch-...   \n",
       "\n",
       "                               Clean Job Description  \\\n",
       "0  ount execut job number 50955730 descript sprea...   \n",
       "1  primari purpos work part product manag team en...   \n",
       "2  descript hire enterpris sale develop repres re...   \n",
       "3  vice presid ad sale market nbc olymp respons w...   \n",
       "4  gener summari senior compens analyst key partn...   \n",
       "\n",
       "                                              Resume  JD_num_words  \\\n",
       "0  justin carvil data scientist profession experi...           458   \n",
       "1  justin carvil data scientist profession experi...           590   \n",
       "2  justin carvil data scientist profession experi...           498   \n",
       "3  justin carvil data scientist profession experi...           430   \n",
       "4  justin carvil data scientist profession experi...           351   \n",
       "\n",
       "   Resume_num_words  word_common  word_total  word_share  \n",
       "0               235         19.0       446.0    0.042601  \n",
       "1               235         25.0       537.0    0.046555  \n",
       "2               235         33.0       469.0    0.070362  \n",
       "3               235         14.0       437.0    0.032037  \n",
       "4               235         19.0       388.0    0.048969  "
      ]
     },
     "execution_count": 17,
     "metadata": {},
     "output_type": "execute_result"
    }
   ],
   "source": [
    "def normalized_words_share(row):\n",
    "    jd = set(map(lambda word: word.lower().strip(),row['Clean Job Description'].split(' ')))\n",
    "    rez = set(map(lambda word: word.lower().strip(),row['Resume'].split(' ')))\n",
    "    return 1.0 * len(jd & rez)/(len(jd) + len(rez))\n",
    "df['word_share'] = df.apply(normalized_words_share,axis = 1)\n",
    "df.head()"
   ]
  },
  {
   "attachments": {},
   "cell_type": "markdown",
   "metadata": {},
   "source": [
    "## Fuzzy Wuzzy"
   ]
  },
  {
   "cell_type": "code",
   "execution_count": null,
   "metadata": {},
   "outputs": [],
   "source": []
  },
  {
   "attachments": {},
   "cell_type": "markdown",
   "metadata": {},
   "source": [
    "# Word2Vec Similarity Score"
   ]
  },
  {
   "cell_type": "code",
   "execution_count": 20,
   "metadata": {},
   "outputs": [],
   "source": [
    "# Train Word2Vec model\n",
    "embedding_dim = 100\n",
    "model = Word2Vec(sentences=df['Clean Job Description'], vector_size=embedding_dim, min_count=1)"
   ]
  },
  {
   "cell_type": "code",
   "execution_count": 21,
   "metadata": {},
   "outputs": [],
   "source": [
    "# Generate word embeddings for each word/token in the texts\n",
    "embeddings1 = [model.wv[word] for word in df['Clean Job Description'][0] if word in model.wv]\n",
    "embeddings2 = [model.wv[word] for word in df['Resume'][0] if word in model.wv]\n",
    "\n",
    "# Calculate document vectors by taking the mean of word embeddings\n",
    "doc_vector1 = np.mean(embeddings1, axis=0)\n",
    "doc_vector2 = np.mean(embeddings2, axis=0)"
   ]
  },
  {
   "cell_type": "code",
   "execution_count": 23,
   "metadata": {},
   "outputs": [
    {
     "data": {
      "text/plain": [
       "((100,), (100,))"
      ]
     },
     "execution_count": 23,
     "metadata": {},
     "output_type": "execute_result"
    }
   ],
   "source": [
    "doc_vector1.shape, doc_vector2.shape"
   ]
  },
  {
   "cell_type": "code",
   "execution_count": 24,
   "metadata": {},
   "outputs": [],
   "source": [
    "similarity_score = cosine_similarity([doc_vector1], [doc_vector2])[0, 0]"
   ]
  },
  {
   "cell_type": "code",
   "execution_count": 25,
   "metadata": {},
   "outputs": [
    {
     "data": {
      "text/plain": [
       "0.9311392"
      ]
     },
     "execution_count": 25,
     "metadata": {},
     "output_type": "execute_result"
    }
   ],
   "source": [
    "similarity_score"
   ]
  },
  {
   "cell_type": "code",
   "execution_count": 26,
   "metadata": {},
   "outputs": [],
   "source": [
    "import numpy as np\n",
    "from sklearn.metrics.pairwise import cosine_similarity\n",
    "\n",
    "# Create an empty list to store similarity scores\n",
    "similarity_scores = []\n",
    "\n",
    "# Loop through the dataframe\n",
    "for index, row in df.iterrows():\n",
    "    # Generate word embeddings for each word/token in the texts\n",
    "    embeddings1 = [model.wv[word] for word in row['Clean Job Description'] if word in model.wv]\n",
    "    embeddings2 = [model.wv[word] for word in row['Resume'] if word in model.wv]\n",
    "\n",
    "    # Calculate document vectors by taking the mean of word embeddings\n",
    "    doc_vector1 = np.mean(embeddings1, axis=0)\n",
    "    doc_vector2 = np.mean(embeddings2, axis=0)\n",
    "\n",
    "    # Calculate similarity score using cosine similarity\n",
    "    similarity_score = cosine_similarity([doc_vector1], [doc_vector2])[0, 0]\n",
    "\n",
    "    # Append the similarity score to the list\n",
    "    similarity_scores.append(similarity_score)\n",
    "\n",
    "# Add the similarity scores as a new column in the dataframe\n",
    "df['Similarity Score'] = similarity_scores"
   ]
  },
  {
   "cell_type": "code",
   "execution_count": 27,
   "metadata": {
    "scrolled": true
   },
   "outputs": [
    {
     "data": {
      "text/html": [
       "<div>\n",
       "<style scoped>\n",
       "    .dataframe tbody tr th:only-of-type {\n",
       "        vertical-align: middle;\n",
       "    }\n",
       "\n",
       "    .dataframe tbody tr th {\n",
       "        vertical-align: top;\n",
       "    }\n",
       "\n",
       "    .dataframe thead th {\n",
       "        text-align: right;\n",
       "    }\n",
       "</style>\n",
       "<table border=\"1\" class=\"dataframe\">\n",
       "  <thead>\n",
       "    <tr style=\"text-align: right;\">\n",
       "      <th></th>\n",
       "      <th>Job Description</th>\n",
       "      <th>Clean Job Description</th>\n",
       "      <th>Resume</th>\n",
       "      <th>JD_num_words</th>\n",
       "      <th>Resume_num_words</th>\n",
       "      <th>word_common</th>\n",
       "      <th>word_total</th>\n",
       "      <th>word_share</th>\n",
       "      <th>Similarity Score</th>\n",
       "    </tr>\n",
       "  </thead>\n",
       "  <tbody>\n",
       "    <tr>\n",
       "      <th>0</th>\n",
       "      <td>&lt;div id=\"jobDescriptionText\" class=\"jobsearch-...</td>\n",
       "      <td>ount execut job number 50955730 descript sprea...</td>\n",
       "      <td>justin carvil data scientist profession experi...</td>\n",
       "      <td>458</td>\n",
       "      <td>235</td>\n",
       "      <td>19.0</td>\n",
       "      <td>446.0</td>\n",
       "      <td>0.042601</td>\n",
       "      <td>0.931139</td>\n",
       "    </tr>\n",
       "    <tr>\n",
       "      <th>1</th>\n",
       "      <td>&lt;div id=\"jobDescriptionText\" class=\"jobsearch-...</td>\n",
       "      <td>primari purpos work part product manag team en...</td>\n",
       "      <td>justin carvil data scientist profession experi...</td>\n",
       "      <td>590</td>\n",
       "      <td>235</td>\n",
       "      <td>25.0</td>\n",
       "      <td>537.0</td>\n",
       "      <td>0.046555</td>\n",
       "      <td>0.929776</td>\n",
       "    </tr>\n",
       "    <tr>\n",
       "      <th>2</th>\n",
       "      <td>&lt;div id=\"jobDescriptionText\" class=\"jobsearch-...</td>\n",
       "      <td>descript hire enterpris sale develop repres re...</td>\n",
       "      <td>justin carvil data scientist profession experi...</td>\n",
       "      <td>498</td>\n",
       "      <td>235</td>\n",
       "      <td>33.0</td>\n",
       "      <td>469.0</td>\n",
       "      <td>0.070362</td>\n",
       "      <td>0.950274</td>\n",
       "    </tr>\n",
       "    <tr>\n",
       "      <th>3</th>\n",
       "      <td>&lt;div id=\"jobDescriptionText\" class=\"jobsearch-...</td>\n",
       "      <td>vice presid ad sale market nbc olymp respons w...</td>\n",
       "      <td>justin carvil data scientist profession experi...</td>\n",
       "      <td>430</td>\n",
       "      <td>235</td>\n",
       "      <td>14.0</td>\n",
       "      <td>437.0</td>\n",
       "      <td>0.032037</td>\n",
       "      <td>0.931017</td>\n",
       "    </tr>\n",
       "    <tr>\n",
       "      <th>4</th>\n",
       "      <td>&lt;div id=\"jobDescriptionText\" class=\"jobsearch-...</td>\n",
       "      <td>gener summari senior compens analyst key partn...</td>\n",
       "      <td>justin carvil data scientist profession experi...</td>\n",
       "      <td>351</td>\n",
       "      <td>235</td>\n",
       "      <td>19.0</td>\n",
       "      <td>388.0</td>\n",
       "      <td>0.048969</td>\n",
       "      <td>0.924335</td>\n",
       "    </tr>\n",
       "  </tbody>\n",
       "</table>\n",
       "</div>"
      ],
      "text/plain": [
       "                                     Job Description  \\\n",
       "0  <div id=\"jobDescriptionText\" class=\"jobsearch-...   \n",
       "1  <div id=\"jobDescriptionText\" class=\"jobsearch-...   \n",
       "2  <div id=\"jobDescriptionText\" class=\"jobsearch-...   \n",
       "3  <div id=\"jobDescriptionText\" class=\"jobsearch-...   \n",
       "4  <div id=\"jobDescriptionText\" class=\"jobsearch-...   \n",
       "\n",
       "                               Clean Job Description  \\\n",
       "0  ount execut job number 50955730 descript sprea...   \n",
       "1  primari purpos work part product manag team en...   \n",
       "2  descript hire enterpris sale develop repres re...   \n",
       "3  vice presid ad sale market nbc olymp respons w...   \n",
       "4  gener summari senior compens analyst key partn...   \n",
       "\n",
       "                                              Resume  JD_num_words  \\\n",
       "0  justin carvil data scientist profession experi...           458   \n",
       "1  justin carvil data scientist profession experi...           590   \n",
       "2  justin carvil data scientist profession experi...           498   \n",
       "3  justin carvil data scientist profession experi...           430   \n",
       "4  justin carvil data scientist profession experi...           351   \n",
       "\n",
       "   Resume_num_words  word_common  word_total  word_share  Similarity Score  \n",
       "0               235         19.0       446.0    0.042601          0.931139  \n",
       "1               235         25.0       537.0    0.046555          0.929776  \n",
       "2               235         33.0       469.0    0.070362          0.950274  \n",
       "3               235         14.0       437.0    0.032037          0.931017  \n",
       "4               235         19.0       388.0    0.048969          0.924335  "
      ]
     },
     "execution_count": 27,
     "metadata": {},
     "output_type": "execute_result"
    }
   ],
   "source": [
    "df.head()"
   ]
  },
  {
   "attachments": {},
   "cell_type": "markdown",
   "metadata": {},
   "source": [
    "# USE Similarity Score"
   ]
  },
  {
   "cell_type": "code",
   "execution_count": 3,
   "metadata": {},
   "outputs": [],
   "source": [
    "import tensorflow_hub as hub"
   ]
  },
  {
   "cell_type": "code",
   "execution_count": null,
   "metadata": {},
   "outputs": [],
   "source": [
    "embed = hub.Module(\"https://kaggle.com/models/google/universal-sentence-encoder/frameworks/TensorFlow1/variations/universal-sentence-encoder/versions/1\")"
   ]
  },
  {
   "cell_type": "code",
   "execution_count": null,
   "metadata": {},
   "outputs": [],
   "source": []
  }
 ],
 "metadata": {
  "kernelspec": {
   "display_name": "Python 3 (ipykernel)",
   "language": "python",
   "name": "python3"
  },
  "language_info": {
   "codemirror_mode": {
    "name": "ipython",
    "version": 3
   },
   "file_extension": ".py",
   "mimetype": "text/x-python",
   "name": "python",
   "nbconvert_exporter": "python",
   "pygments_lexer": "ipython3",
   "version": "3.10.6"
  },
  "toc": {
   "base_numbering": 1,
   "nav_menu": {},
   "number_sections": true,
   "sideBar": true,
   "skip_h1_title": false,
   "title_cell": "Table of Contents",
   "title_sidebar": "Contents",
   "toc_cell": false,
   "toc_position": {
    "height": "calc(100% - 180px)",
    "left": "10px",
    "top": "150px",
    "width": "273.447px"
   },
   "toc_section_display": true,
   "toc_window_display": true
  }
 },
 "nbformat": 4,
 "nbformat_minor": 2
}
