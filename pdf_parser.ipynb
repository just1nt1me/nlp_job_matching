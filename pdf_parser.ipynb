{
 "cells": [
  {
   "attachments": {},
   "cell_type": "markdown",
   "metadata": {},
   "source": [
    "# Import Libraries"
   ]
  },
  {
   "cell_type": "code",
   "execution_count": 13,
   "metadata": {},
   "outputs": [
    {
     "name": "stdout",
     "output_type": "stream",
     "text": [
      "Collecting pypdf\n",
      "  Downloading pypdf-3.9.1-py3-none-any.whl (249 kB)\n",
      "\u001b[2K     \u001b[90m━━━━━━━━━━━━━━━━━━━━━━━━━━━━━━━━━━━━━\u001b[0m \u001b[32m249.3/249.3 kB\u001b[0m \u001b[31m320.0 kB/s\u001b[0m eta \u001b[36m0:00:00\u001b[0m00:01\u001b[0m00:01\u001b[0m\n",
      "\u001b[?25hInstalling collected packages: pypdf\n",
      "Successfully installed pypdf-3.9.1\n"
     ]
    }
   ],
   "source": [
    "! pip install pypdf"
   ]
  },
  {
   "cell_type": "code",
   "execution_count": 14,
   "metadata": {},
   "outputs": [],
   "source": [
    "# calculations\n",
    "import numpy as np\n",
    "import pandas as pd\n",
    "\n",
    "# visuals\n",
    "import matplotlib.pyplot as plt\n",
    "\n",
    "# parsing\n",
    "from pypdf import PdfReader\n",
    "\n",
    "import warnings\n",
    "warnings.filterwarnings('ignore')\n",
    "from sklearn.naive_bayes import MultinomialNB\n",
    "from sklearn.multiclass import OneVsRestClassifier\n",
    "from sklearn import metrics\n",
    "from sklearn.metrics import accuracy_score\n",
    "from pandas.plotting import scatter_matrix\n",
    "from sklearn.neighbors import KNeighborsClassifier\n",
    "from sklearn import metrics\n",
    "import re"
   ]
  },
  {
   "attachments": {},
   "cell_type": "markdown",
   "metadata": {},
   "source": [
    "# Dataset"
   ]
  },
  {
   "cell_type": "code",
   "execution_count": 28,
   "metadata": {},
   "outputs": [
    {
     "data": {
      "text/html": [
       "<div>\n",
       "<style scoped>\n",
       "    .dataframe tbody tr th:only-of-type {\n",
       "        vertical-align: middle;\n",
       "    }\n",
       "\n",
       "    .dataframe tbody tr th {\n",
       "        vertical-align: top;\n",
       "    }\n",
       "\n",
       "    .dataframe thead th {\n",
       "        text-align: right;\n",
       "    }\n",
       "</style>\n",
       "<table border=\"1\" class=\"dataframe\">\n",
       "  <thead>\n",
       "    <tr style=\"text-align: right;\">\n",
       "      <th></th>\n",
       "      <th>Job Description</th>\n",
       "    </tr>\n",
       "  </thead>\n",
       "  <tbody>\n",
       "    <tr>\n",
       "      <th>0</th>\n",
       "      <td>&lt;div id=\"jobDescriptionText\" class=\"jobsearch-...</td>\n",
       "    </tr>\n",
       "    <tr>\n",
       "      <th>1</th>\n",
       "      <td>&lt;div id=\"jobDescriptionText\" class=\"jobsearch-...</td>\n",
       "    </tr>\n",
       "    <tr>\n",
       "      <th>2</th>\n",
       "      <td>&lt;div id=\"jobDescriptionText\" class=\"jobsearch-...</td>\n",
       "    </tr>\n",
       "    <tr>\n",
       "      <th>3</th>\n",
       "      <td>&lt;div id=\"jobDescriptionText\" class=\"jobsearch-...</td>\n",
       "    </tr>\n",
       "    <tr>\n",
       "      <th>4</th>\n",
       "      <td>&lt;div id=\"jobDescriptionText\" class=\"jobsearch-...</td>\n",
       "    </tr>\n",
       "  </tbody>\n",
       "</table>\n",
       "</div>"
      ],
      "text/plain": [
       "                                     Job Description\n",
       "0  <div id=\"jobDescriptionText\" class=\"jobsearch-...\n",
       "1  <div id=\"jobDescriptionText\" class=\"jobsearch-...\n",
       "2  <div id=\"jobDescriptionText\" class=\"jobsearch-...\n",
       "3  <div id=\"jobDescriptionText\" class=\"jobsearch-...\n",
       "4  <div id=\"jobDescriptionText\" class=\"jobsearch-..."
      ]
     },
     "execution_count": 28,
     "metadata": {},
     "output_type": "execute_result"
    }
   ],
   "source": [
    "df = pd.read_csv('job_data.csv')[['Job Description']]\n",
    "df.head()"
   ]
  },
  {
   "cell_type": "code",
   "execution_count": 26,
   "metadata": {},
   "outputs": [
    {
     "data": {
      "text/plain": [
       "'<div id=\"jobDescriptionText\" class=\"jobsearch-jobDescriptionText\">WE ARE LOOKING FOR TOP PERFORMERS TO GROW WITH US!\\n<br><br>\\nDel Taco needs people with the ability to handle multiple responsibilities and deliver the quality and guest service that defines our brand. While we look for you to bring the right skills and personality for a Shift Manager position, we\\'ll also provide the training and support you need to continue to grow and advance.\\n<br><br>\\nOur Shift Managers support our stores and General Managers in creating an amazing guest experience, and empowering their team to be at their very best. Our Shift Managers create a culture in our restaurants that is exciting, optimistic and rewarding.\\n<br><br>\\nDel Taco Shift Managers have significant opportunities for growth and career advancement and are charged with supporting the General Manager with the tasks of training the next generation of leaders, guiding them to be promoted and empowering them to have a successful career.\\n<br><br>\\n<b>Essential Job Functions:</b><br>\\nSupports General Manager in supervising team that delivers effective results in the areas of quality, guest service, food cost, labor cost, safety, security, cleanliness and product preparation.\\n<br>Running shifts and supporting the GM in managing the execution of all Company policies, procedures, programs and systems.\\n<br>Ensures objectives are reached in all areas while following all Company guidelines.\\n<br>Ensure compliance during shifts with all federal, state and local laws and ethical business practices.\\n<br>Supports GM in creating and maintaining an \"Employer of Choice\" environment.\\n<br>Supports GM in providing leadership, direction, training and development to the restaurant team.\\n<br>Supports GM in supervising and directing the workforce.\\n<br>Supporting GM in making staffing decisions such as, recommending interviews, and administering disciplinary action as needed.\\n<br>Make recommendations to enhance restaurant operations.\\n<br>Delivers effective results in the areas of quality, guest service, safety, security, cleanliness and product preparation.\\n<br>Exhibits a cheerful and helpful manner\\n<br>Demonstrates a complete understanding of our menu items and has the ability to explain them to guests accurately\\n<br>Uses Point of Sale system/cash register to record orders and compute order amounts; collecting payment from guests\\n<br>Understands and adheres to proper food handling, safety and sanitations standards\\n<br>Ability to follow all Company operation policies, and procedures\\n<br>Make recommendations to enhance restaurant operations.\\n<br>Maintains a professional appearance and grooming standards\\n<br><br>\\n<b>Skills, Knowledge and Abilities:</b><br>\\n1-2 years of experience in quick service restaurant environment with demonstrated ability to ensure guest satisfaction and ability to train and maintain an on-going guest service delivery.\\n<br>Demonstrated ability to be a leadership partner with management and staff, and to provide quality service to guests.\\n<br>Demonstrated ability to handle multiple tasks with effective follow-through.\\n<br>Demonstrated ability to motivate and lead staff to achieve organizational goals.\\n<br>General knowledge of computers, POS systems, various electronic devices, and various software.\\n<br>Ability to perform basic business math skills. Cash handling skills desired.\\n<br>Excellent organizational skills for keeping detailed records, reports and logs.\\n<br>Demonstrated ability to visually assess and evaluate safety hazards in the work place as mandated by company safety procedures. Ensure OSHA, local health and safety codes and company safety policies are met/followed.\\n<br>Ability to communicate, develop and maintain a close, effective relationships colleagues, department managers, partners and the public.\\n<br>Implement training and development plans and train staff\\n<br>Ability to read, write and speak effectively in English.\\n<br><br>\\n<b>Experience, Education &amp; Training:</b><br>\\nMust possess a valid driver’s license and proof of vehicle insurance.\\n<br>1-2 years of experience in a Quick Service restaurant environment or a guest service industry in a supervisory or leadership role or an equivalent combination is preferred.\\n<br>Food Handlers certification may be required\\n<br>Ability to stand and walk for approximately 95-100% of shift including ability to bend, reach, and lift and carry a max of 50 pounds.\\n<br>In Return we offer an excellent compensation and benefits package to include:\\n<br><br>\\nGreat pay\\n<br>Shift Leader Vacation Plan\\n<br>Flexible Scheduling\\n<br>All Shifts Available\\n<br>Employee Assistance Program\\n<br>401(k) Savings and Investment Plan with discretionary company match\\n<br>To apply for this position, please click on “Apply Now”. Only qualified candidates will be considered.\\n<br><br>\\nThe Company is fully committed to Equal Employment Opportunity and to attracting, retaining, developing and promoting the most qualified employees without regard to their race, gender, color, religion, sexual orientation, national origin, age, physical or mental disability, citizenship status, veteran status, or any other characteristic prohibited by federal or state law. We are dedicated to providing a work environment free from discrimination and harassment, and where employees are treated with respect and dignity.\\n<br><br>\\nHigh School diploma or equivalent\\n<br>1 – 2 years experience in QSR industry / full service concept or 1 – 2 years experience within Del Taco system\\n<br>Must possess a valid driver’s license, insurance, and use personal vehicle to make bank deposits and travel to other restaurants/business locations as required\\n<br>Fluent in English\\n<br>Excellent Customer Service\\n<br>Adhere to Company Policies and Procedures\\n<br>Proven ability to lead and motivate a diverse team\\n<br>Strong Communication and Teamwork Skills\\n<br>Strong Organizational Skills\\n<br>Detail Oriented and Accurate\\n<br>Ability to work under pressure\\n<br>Ability to Stand and Walk for 5-6 hours at a time\\n<br>Ability to lift 25 Ibs\\n<br>Other responsibilities as assigned</div>'"
      ]
     },
     "execution_count": 26,
     "metadata": {},
     "output_type": "execute_result"
    }
   ],
   "source": [
    "df['Job Description'][0]"
   ]
  },
  {
   "cell_type": "code",
   "execution_count": 33,
   "metadata": {},
   "outputs": [],
   "source": [
    "#function to process job listings\n",
    "def clean_text(resumeText):\n",
    "    resumeText = re.sub(r'<[^>]+>', '', resumeText)     # remove html tags\n",
    "    resumeText = re.sub('http\\S+\\s*', ' ', resumeText)  # remove URLs\n",
    "    resumeText = re.sub('RT|cc', ' ', resumeText)  # remove RT and cc\n",
    "    resumeText = re.sub('#\\S+', '', resumeText)  # remove hashtags\n",
    "    resumeText = re.sub('@\\S+', '  ', resumeText)  # remove mentions\n",
    "    resumeText = re.sub('[%s]' % re.escape(\"\"\"!\"#$%&'()*+,-./:;<=>?@[\\]^_`{|}~\"\"\"), ' ', resumeText)  # remove punctuations\n",
    "    resumeText = re.sub(r'[^\\x00-\\x7f]',r' ', resumeText) \n",
    "    resumeText = re.sub('\\s+', ' ', resumeText)  # remove extra whitespace\n",
    "    resumeText = re.sub(r'(\\w)(?<![A-Z])([A-Z])(?![A-Z])', r'\\1 \\2', resumeText)\n",
    "    resumeText = resumeText.lower() #remove capital letters\n",
    "    words = resumeText.split(' ')\n",
    "    words = [word for word in words if len(word)>1]\n",
    "    resumeText = ' '.join(words)\n",
    "    return resumeText"
   ]
  },
  {
   "cell_type": "code",
   "execution_count": 34,
   "metadata": {},
   "outputs": [
    {
     "data": {
      "text/plain": [
       "'we are looking for top performers to grow with us del taco needs people with the ability to handle multiple responsibilities and deliver the quality and guest service that defines our brand while we look for you to bring the right skills and personality for shift manager position we ll also provide the training and support you need to continue to grow and advance our shift managers support our stores and general managers in creating an amazing guest experience and empowering their team to be at their very best our shift managers create culture in our restaurants that is exciting optimistic and rewarding del taco shift managers have significant opportunities for growth and career advancement and are charged with supporting the general manager with the tasks of training the next generation of leaders guiding them to be promoted and empowering them to have su essful career essential job functions supports general manager in supervising team that delivers effective results in the areas of quality guest service food cost labor cost safety security cleanliness and product preparation running shifts and supporting the gm in managing the execution of all company policies procedures programs and systems ensures objectives are reached in all areas while following all company guidelines ensure compliance during shifts with all federal state and local laws and ethical business practices supports gm in creating and maintaining an employer of choice environment supports gm in providing leadership direction training and development to the restaurant team supports gm in supervising and directing the workforce supporting gm in making staffing decisions such as recommending interviews and administering disciplinary action as needed make recommendations to enhance restaurant operations delivers effective results in the areas of quality guest service safety security cleanliness and product preparation exhibits cheerful and helpful manner demonstrates complete understanding of our menu items and has the ability to explain them to guests urately uses point of sale system cash register to record orders and compute order amounts collecting payment from guests understands and adheres to proper food handling safety and sanitations standards ability to follow all company operation policies and procedures make recommendations to enhance restaurant operations maintains professional appearance and grooming standards skills knowledge and abilities years of experience in quick service restaurant environment with demonstrated ability to ensure guest satisfaction and ability to train and maintain an on going guest service delivery demonstrated ability to be leadership partner with management and staff and to provide quality service to guests demonstrated ability to handle multiple tasks with effective follow through demonstrated ability to motivate and lead staff to achieve organizational goals general knowledge of computers pos systems various electronic devices and various software ability to perform basic business math skills cash handling skills desired excellent organizational skills for keeping detailed records reports and logs demonstrated ability to visually assess and evaluate safety hazards in the work place as mandated by company safety procedures ensure osha local health and safety codes and company safety policies are met followed ability to communicate develop and maintain close effective relationships colleagues department managers partners and the public implement training and development plans and train staff ability to read write and speak effectively in english experience education amp training must possess valid driver license and proof of vehicle insurance years of experience in quick service restaurant environment or guest service industry in supervisory or leadership role or an equivalent combination is preferred food handlers certification may be required ability to stand and walk for approximately 95 100 of shift including ability to bend reach and lift and carry max of 50 pounds in return we offer an excellent compensation and benefits package to include great pay shift leader vacation plan flexible scheduling all shifts available employee assistance program 401 savings and investment plan with discretionary company match to apply for this position please click on apply now only qualified candidates will be considered the company is fully committed to equal employment opportunity and to attracting retaining developing and promoting the most qualified employees without regard to their race gender color religion sexual orientation national origin age physical or mental disability citizenship status veteran status or any other characteristic prohibited by federal or state law we are dedicated to providing work environment free from discrimination and harassment and where employees are treated with respect and dignity high school diploma or equivalent years experience in qsr industry full service concept or years experience within del taco system must possess valid driver license insurance and use personal vehicle to make bank deposits and travel to other restaurants business locations as required fluent in english excellent customer service adhere to company policies and procedures proven ability to lead and motivate diverse team strong communication and teamwork skills strong organizational skills detail oriented and urate ability to work under pressure ability to stand and walk for hours at time ability to lift 25 ibs other responsibilities as assigned'"
      ]
     },
     "execution_count": 34,
     "metadata": {},
     "output_type": "execute_result"
    }
   ],
   "source": [
    "job = clean_text(df['Job Description'][0])\n",
    "job"
   ]
  },
  {
   "attachments": {},
   "cell_type": "markdown",
   "metadata": {},
   "source": [
    "# Resume Parser"
   ]
  },
  {
   "cell_type": "code",
   "execution_count": null,
   "metadata": {},
   "outputs": [],
   "source": [
    "reader = PdfReader(\"resume.pdf\")\n",
    "number_of_pages = len(reader.pages)\n",
    "page = reader.pages[0]\n",
    "pdf_text = page.extract_text()"
   ]
  },
  {
   "cell_type": "code",
   "execution_count": 16,
   "metadata": {},
   "outputs": [
    {
     "data": {
      "text/plain": [
       "'Justin Carville\\nData Scientist\\nAbout Me\\nProfessional Experience\"Every day is a new adventure.\" This philosophy brought\\nme to Japan in 2017, where I have since leveraged my\\nlove of languages to make a living. My experience\\nworking in marketing and business operations got me\\nexcited about coding and data, so I changed gears and\\nam now on a mission to become fluent in this new field.\\nTechnical Skills\\nPython\\nScikit-Learn\\nMachine\\nLearning\\nNLP\\nDeep Learning\\nLanguages\\nEnglish : native\\nJapanese : business\\nSpanish : conversational\\nEducation\\nLe Wagon - Tokyo (2023)\\n#1 ranked bootcamp worldwide\\n9-week intensive data science\\nbootcamp\\nKICL - Kyoto (2017-2019)\\nJapanese language school\\nPassed JLPT N2\\nUniversity of Rhode Island (2010-2013)\\nBachelor of Arts in Spanish, Journalism\\n Graduated Magna Cum LaudeContact Info\\njccarville@gmail.comTokyo, Japan\\nwww.linkedin.com/in/jccarville/\\nhttps://github.com/just1nt1me\\nLink Academy (2019-2023)\\nFreelance Writer, Editor, Translator (2018-2023)\\nVIPKID | ESL Teacher (2017-2019)WeLoveOsaka (link to articles)SNS video content creation for YouTube, Instagram\\nKPI analysis\\n70+ videos, 66,000+ views, 220+ subscribers\\ntranslate (J ➞ E) and edit articles about tourism, gourmet,\\nevents\\nteach online English lessons for children\\n1000+ classroom hoursComputer Vision\\nSQL\\nGoogle Cloud\\nPlatform\\nStreamlit\\nGit/GithubSNS Marketing Specialist\\nLesson schedule optimization, management\\nTroubleshooting and IT support\\navg of 60 lessons booked / weekOperations Support Staff\\nTeach conversation, business, TOEIC, pronunciation\\nlessons\\n95% student feedback rateESL Teacher\\nAtoZ English\\nwrite, edit test content for EIKEN, TOEIC, TEAP\\nGrape Japan (link to articles)\\nwrite, translate articles on Japanese culture, lifestyle,\\ntrends\\nCCRI | Tutor (2016-2017)\\nteach one-on-one lessons in Biology, Anatomy,\\nPhysiology, Math\\nNPR | Copy Editor, Contributor (2015-2016)\\nfield work, interviews, articles, edits for radio and online\\nInterests\\nweightlifting\\nyoga\\nhikingLink to my\\n music hereClick for \\nPortfolio & Projects'"
      ]
     },
     "execution_count": 16,
     "metadata": {},
     "output_type": "execute_result"
    }
   ],
   "source": [
    "pdf_text"
   ]
  },
  {
   "cell_type": "code",
   "execution_count": 24,
   "metadata": {},
   "outputs": [],
   "source": [
    "#function to process resumes\n",
    "def cleanResume(resumeText):\n",
    "    resumeText = re.sub('http\\S+\\s*', ' ', resumeText)  # remove URLs\n",
    "    resumeText = re.sub('RT|cc', ' ', resumeText)  # remove RT and cc\n",
    "    resumeText = re.sub('#\\S+', '', resumeText)  # remove hashtags\n",
    "    resumeText = re.sub('@\\S+', '  ', resumeText)  # remove mentions\n",
    "    resumeText = re.sub('[%s]' % re.escape(\"\"\"!\"#$%&'()*+,-./:;<=>?@[\\]^_`{|}~\"\"\"), ' ', resumeText)  # remove punctuations\n",
    "    resumeText = re.sub(r'[^\\x00-\\x7f]',r' ', resumeText) \n",
    "    resumeText = re.sub('\\s+', ' ', resumeText)  # remove extra whitespace\n",
    "    resumeText = re.sub(r'(\\w)(?<![A-Z])([A-Z])(?![A-Z])', r'\\1 \\2', resumeText)\n",
    "    resumeText = resumeText.lower() #remove capital letters\n",
    "    words = resumeText.split(' ')\n",
    "    words = [word for word in words if len(word)>1]\n",
    "    resumeText = ' '.join(words)\n",
    "    return resumeText"
   ]
  },
  {
   "cell_type": "code",
   "execution_count": 25,
   "metadata": {},
   "outputs": [
    {
     "data": {
      "text/plain": [
       "'justin carville data scientist about me professional experience every day is new adventure this philosophy brought me to japan in 2017 where have since leveraged my love of languages to make living my experience working in marketing and business operations got me excited about coding and data so changed gears and am now on mission to become fluent in this new field technical skills python scikit learn machine learning nlp deep learning languages english native japanese business spanish conversational education le wagon tokyo 2023 ranked bootcamp worldwide week intensive data science bootcamp kicl kyoto 2017 2019 japanese language school passed jlpt n2 university of rhode island 2010 2013 bachelor of arts in spanish journalism graduated magna cum laude contact info arville japan www linkedin com in arville link academy 2019 2023 freelance writer editor translator 2018 2023 vipkid esl teacher 2017 2019 we love osaka link to articles sns video content creation for you tube instagram kpi analysis 70 videos 66 000 views 220 subscribers translate and edit articles about tourism gourmet events teach online english lessons for children 1000 classroom hours computer vision sql google cloud platform streamlit git githubsns marketing specialist lesson schedule optimization management troubleshooting and it support avg of 60 lessons booked week operations support staff teach conversation business toeic pronunciation lessons 95 student feedback rateesl teacher ato english write edit test content for eiken toeic teap grape japan link to articles write translate articles on japanese culture lifestyle trends ccri tutor 2016 2017 teach one on one lessons in biology anatomy physiology math npr copy editor contributor 2015 2016 field work interviews articles edits for radio and online interests weightlifting yoga hiking link to my music here click for portfolio projects'"
      ]
     },
     "execution_count": 25,
     "metadata": {},
     "output_type": "execute_result"
    }
   ],
   "source": [
    "resume = cleanResume(pdf_text)\n",
    "resume"
   ]
  },
  {
   "cell_type": "code",
   "execution_count": null,
   "metadata": {},
   "outputs": [],
   "source": []
  }
 ],
 "metadata": {
  "kernelspec": {
   "display_name": "lewagon",
   "language": "python",
   "name": "python3"
  },
  "language_info": {
   "codemirror_mode": {
    "name": "ipython",
    "version": 3
   },
   "file_extension": ".py",
   "mimetype": "text/x-python",
   "name": "python",
   "nbconvert_exporter": "python",
   "pygments_lexer": "ipython3",
   "version": "3.10.6"
  },
  "orig_nbformat": 4
 },
 "nbformat": 4,
 "nbformat_minor": 2
}
